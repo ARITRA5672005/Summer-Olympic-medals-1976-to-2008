{
 "cells": [
  {
   "cell_type": "code",
   "execution_count": 1,
   "id": "288ccdca",
   "metadata": {},
   "outputs": [
    {
     "name": "stdout",
     "output_type": "stream",
     "text": [
      "       City    Year     Sport Discipline           Event  \\\n",
      "0  Montreal  1976.0  Aquatics     Diving  3m springboard   \n",
      "1  Montreal  1976.0  Aquatics     Diving  3m springboard   \n",
      "2  Montreal  1976.0  Aquatics     Diving  3m springboard   \n",
      "3  Montreal  1976.0  Aquatics     Diving  3m springboard   \n",
      "4  Montreal  1976.0  Aquatics     Diving    10m platform   \n",
      "\n",
      "                    Athlete Gender Country_Code        Country Event_gender  \\\n",
      "0         Kï¿½HLER, Christa  Women          GDR   East Germany            W   \n",
      "1       KOSENKOV, Aleksandr    Men          URS   Soviet Union            M   \n",
      "2      BOGGS, Philip George    Men          USA  United States            M   \n",
      "3  CAGNOTTO, Giorgio Franco    Men          ITA          Italy            M   \n",
      "4    WILSON, Deborah Keplar  Women          USA  United States            W   \n",
      "\n",
      "    Medal  \n",
      "0  Silver  \n",
      "1  Bronze  \n",
      "2    Gold  \n",
      "3  Silver  \n",
      "4  Bronze  \n",
      "<class 'pandas.core.frame.DataFrame'>\n",
      "RangeIndex: 15433 entries, 0 to 15432\n",
      "Data columns (total 11 columns):\n",
      " #   Column        Non-Null Count  Dtype  \n",
      "---  ------        --------------  -----  \n",
      " 0   City          15316 non-null  object \n",
      " 1   Year          15316 non-null  float64\n",
      " 2   Sport         15316 non-null  object \n",
      " 3   Discipline    15316 non-null  object \n",
      " 4   Event         15316 non-null  object \n",
      " 5   Athlete       15316 non-null  object \n",
      " 6   Gender        15316 non-null  object \n",
      " 7   Country_Code  15316 non-null  object \n",
      " 8   Country       15316 non-null  object \n",
      " 9   Event_gender  15316 non-null  object \n",
      " 10  Medal         15316 non-null  object \n",
      "dtypes: float64(1), object(10)\n",
      "memory usage: 1.3+ MB\n",
      "None\n",
      "       City    Year     Sport Discipline           Event  \\\n",
      "0  Montreal  1976.0  Aquatics     Diving  3m springboard   \n",
      "1  Montreal  1976.0  Aquatics     Diving  3m springboard   \n",
      "2  Montreal  1976.0  Aquatics     Diving  3m springboard   \n",
      "3  Montreal  1976.0  Aquatics     Diving  3m springboard   \n",
      "4  Montreal  1976.0  Aquatics     Diving    10m platform   \n",
      "\n",
      "                    Athlete Gender Country_Code        Country Event_gender  \\\n",
      "0         Kï¿½HLER, Christa  Women          GDR   East Germany            W   \n",
      "1       KOSENKOV, Aleksandr    Men          URS   Soviet Union            M   \n",
      "2      BOGGS, Philip George    Men          USA  United States            M   \n",
      "3  CAGNOTTO, Giorgio Franco    Men          ITA          Italy            M   \n",
      "4    WILSON, Deborah Keplar  Women          USA  United States            W   \n",
      "\n",
      "    Medal  \n",
      "0  Silver  \n",
      "1  Bronze  \n",
      "2    Gold  \n",
      "3  Silver  \n",
      "4  Bronze  \n",
      "Index(['City', 'Year', 'Sport', 'Discipline', 'Event', 'Athlete', 'Gender',\n",
      "       'Country_Code', 'Country', 'Event_gender', 'Medal'],\n",
      "      dtype='object')\n"
     ]
    }
   ],
   "source": [
    "import pandas as pd \n",
    "df = pd.read_csv(r'C:\\Users\\dasc5\\Downloads\\Summer-Olympic-medals-1976-to-2008\\Data\\Summer-Olympic-medals-1976-to-2008.csv', encoding='latin1')\n",
    "import pandas as pd\n",
    "import numpy as np\n",
    "import matplotlib.pyplot as plt\n",
    "import seaborn as sns\n",
    "print(df.head())\n",
    "print(df.info())\n",
    "print(df.head())\n",
    "print(df.columns)"
   ]
  },
  {
   "cell_type": "code",
   "execution_count": 2,
   "id": "51464f45",
   "metadata": {},
   "outputs": [],
   "source": [
    "medal_tally = df.groupby(['Year', 'Country', 'Medal']).size().unstack(fill_value=0).reset_index()\n",
    "medal_tally['Total'] = medal_tally[['Gold', 'Silver', 'Bronze']].sum(axis=1)\n",
    "medal_tally.to_excel('medal_tally.xlsx', index=False)  # Export for Power BI"
   ]
  },
  {
   "cell_type": "code",
   "execution_count": null,
   "id": "e23c8278",
   "metadata": {},
   "outputs": [],
   "source": []
  }
 ],
 "metadata": {
  "kernelspec": {
   "display_name": "python_course",
   "language": "python",
   "name": "python3"
  },
  "language_info": {
   "codemirror_mode": {
    "name": "ipython",
    "version": 3
   },
   "file_extension": ".py",
   "mimetype": "text/x-python",
   "name": "python",
   "nbconvert_exporter": "python",
   "pygments_lexer": "ipython3",
   "version": "3.11.11"
  }
 },
 "nbformat": 4,
 "nbformat_minor": 5
}
